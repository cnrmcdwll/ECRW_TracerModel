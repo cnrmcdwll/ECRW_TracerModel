{
 "cells": [
  {
   "cell_type": "markdown",
   "metadata": {},
   "source": [
    "# East Creek Tracer Random Walk Model"
   ]
  },
  {
   "cell_type": "markdown",
   "metadata": {},
   "source": [
    "#### Developed for GEOB 508 by Conor McDowell \n",
    " (with help from Ellie, David, Marwan, and anyone not named who collected field data)"
   ]
  },
  {
   "cell_type": "markdown",
   "metadata": {},
   "source": [
    "## Objectives:\n",
    "\n",
    "          1) Develop a model that can recreate tracer behavior in East Creek during the \n",
    "          study period described by Papangelakis et al. (2016).\n",
    "          2) Use the model to determine:\n",
    "              a) How does channel morphology affect the virtual velocity of \n",
    "              particles through a reach?\n",
    "              b) What role does channel morphology play in particle dispersion?\n",
    "              c) How does yearly discharge affect particle dispersion and virtual \n",
    "              velocity?\n",
    "          "
   ]
  },
  {
   "cell_type": "markdown",
   "metadata": {},
   "source": [
    "## Study Area:\n",
    "\n",
    "   East Creek is a small gravel-bed stream located in the Malcom Knapp Research Forest maintained by the University of British Columbia (UBC) in western British Columbia. This study focus on two reaches, a rapid reach (RAP) and a riffle-pool reach (RP1), which were also the focus of the Papangelakis et al. (2016) study. In these two sections, East Creek maintains a diameter <4 m wide. Vegetation and cross section analyses identify a Q<sub>bf</sub> of ~2 m<sup>3</sup>/s. While the watershed is heavily forested, forest management research has caused large woody debris (LWD) to be mostly absent from the study reaches, especially when compared with other forests in the Pacific Northwest.\n",
    "   \n",
    "   As I have only been to East Creek once, below is a quote from Papangelakis et al. (2016) describing the two study reaches in detail. For reference, a map of the study area with a classification of morphological units is observed in Figure 1.\n",
    "   \n",
    "   \"Reach-average geometry measurements of the two reaches was done through field surveys, while the grain size distributions of the surface and subsurface material were obtained using the Wolman method (Wolman, 1954) with n ≥100 at various patches along the reaches. RAP is a straight reach of 72m length, a mean bankfull channel width of 2.3±0.4m, a mean bankfull depth of 0.7±0.15 m, and a reach-average slope of 0.02. The surface material has a D50 and D84 of 55 and 105 mm respectively, and the relative roughness of the channel at bankfull is 5.2. \n",
    "   \n",
    "   At the upstream end, the reach has a ~34m long section with minimal bed development and a lack of clear morphological units, classified as ‘rapid’ morphology. Here, the term ‘rapid’ is used as suggested by Zimmerman and Church (2001) to describe featureless gravel channel units with moderate gradients and are the same as those described by Ikeda (1975) andMontgomery and Buffington (1997) as plane-bed morphologies. At the downstream end of RAP, there is a ~39m long sequence of pool-riffle units and alternate bars. Between pool and riffle units, there exist morphological units whose characteristics fall between those of the pool and riffle classifications, and have herein been classified as ‘runs’. RP1 is relatively straight, containing only a few irregular bends. The reach is 117m in length, has a mean bankfull channel width of 2.8 ± 0.9 m, an approximate mean bankfull depth of 0.6 ± 0.1 m, and a reach-averaged slope of 0.018. The surface material of RP1 has a D50 and D84 of 49 and 88mm respectively, and the relative roughness of the channel at bankfull is 6.0. The morphology of RP1 is more developed than that of RAP, containing alternating pool-riffle sequences interspersed by runs, and distinct side bars.\""
   ]
  },
  {
   "cell_type": "markdown",
   "metadata": {},
   "source": [
    "###### Figure 1: East Creek Morphology Map\n",
    "\n",
    "<img src=\"Figures/Figure1.png\">\n",
    "\n",
    "Figure 1: A map of East Creek Morphologic Types (from Papangelakis et al. (2016)). RAP and RP1 are delineated by dotted lines and seeding sites are delineated by brackets. Wood (the grey units in the figure) was modelled as pools in this study."
   ]
  },
  {
   "cell_type": "markdown",
   "metadata": {},
   "source": [
    "## Data Sources:\n",
    "\n",
    "   The data used in the development and calibration of the model are the result of multiple long-term monitoring studies conducted by the Hassan Research Group between 2004-2015. Hydrodynamic data was collected in the form of 15-minute interval stage data using a weir just upstream of the study area. Classification of morphological units occured before 2005 through bed surveys and aerial photographs following the classifications outlined in Hassan et al. (2005). \n",
    "    \n",
    "   In 2004, ~1400 uniquely identified magnetic tracer stones were evenly deployed on the riverbed surface between RAP and RP1. The two seeding locations are labelled in Figure 1. These tracers were divided into size classes ranging from <8mm to <90mm and the proportion of each size class was chosen to match the bed subsurface as much as possible. Tracer locations were recorded once a year during the low flow season for every year except for 2009, when no competent flows were recorded. During tracer recovery, downstream and cross-stream locations were recorded along with depth below surface for buried particles. These descriptions also included the morphologic unit of recovery. As the tracer recovery data and East Creek morphology data were collected at different times by multiple researchers, there are some differences between them. For the sake of this study, the tracer data was used to resolve inconsistencies."
   ]
  },
  {
   "cell_type": "markdown",
   "metadata": {},
   "source": [
    "## Model Development:\n",
    "\n",
    "#### Model Overview:\n",
    "The models developed for this project have been a series of prototypes that use variations of a random walk model to describe sediment movement through the reaches. The first model prototype ignores hydrodynamics, particle size, burial depth, and precise particle location, instead focusing on particle paths from \"named morphologic unit\" to \"named morphologic unit\". The second prototype uses \"morphologic type\" (ex. bar) to determine the potential step length for the next year. Although the second prototype does not yet include hydrodynamic data, burial depth, or an observation-based determination of horizontal movement downstream, those will be included in future prototypes.\n",
    "\n",
    "** For the purpose of this writeup, a \"morphologic unit\" is a named location within East Creek (ex. \"RAP Riffle 2\"). A morphologic type groups these units into similar features (ex. bar, rapid, pool, run, riffle, and trap)."
   ]
  },
  {
   "cell_type": "markdown",
   "metadata": {},
   "source": [
    "#### Prototype 1\n",
    "Prototype 1 is an \"intentional\" recreation of the tracer data collected during a previous study. This model recreates a tracer particle's steps by observing its current morphologic unit and randomly determining the next unit to which it moves. The probability of movement and next location is determined by the movement of all tracers through that morphologic unit during the duration of the study. Since this model is not built on any physical basis and averages across a range of hydrodynamics, relative locations within a morphologic unit, and requires a large amount of observed data, it is not particularly useful for prediction and was instead created for two reasons. The first is to serve as a \"non-physical\" baseline for future model prototypes. The second is to identify individual morphologic units that may have an outsized impact on tracer virtual velocity. The code for this prototype is in the next few cells. \n",
    "\n",
    "Press Shift + Enter to run each cell (the code is written in Python 3)."
   ]
  },
  {
   "cell_type": "markdown",
   "metadata": {},
   "source": [
    "### The Code for Prototype 1"
   ]
  },
  {
   "cell_type": "code",
   "execution_count": 1,
   "metadata": {
    "collapsed": true
   },
   "outputs": [],
   "source": [
    "### Import Required Libraries\n",
    "import pandas as pd\n",
    "import numpy as np\n",
    "import scipy\n",
    "import scipy.stats\n",
    "from numpy.random import choice\n",
    "from collections import defaultdict\n",
    "import matplotlib.pyplot as plt\n",
    "%matplotlib inline\n",
    "#import os\n",
    "#INITIAL_DIRECTORY = os.getcwd()"
   ]
  },
  {
   "cell_type": "code",
   "execution_count": 2,
   "metadata": {
    "collapsed": true
   },
   "outputs": [],
   "source": [
    "# initialize a helper function to round to nearest .05 (keeps distances reasonable)\n",
    "def round05(value):\n",
    "    return np.round(value * 20)/20"
   ]
  },
  {
   "cell_type": "code",
   "execution_count": 3,
   "metadata": {
    "collapsed": false
   },
   "outputs": [],
   "source": [
    "# Read list of next step tuples from .txt file\n",
    "with open('nextsteps.txt') as tuples:\n",
    "    nextsteps = [(map(str, i.split(','))) for i in tuples]"
   ]
  },
  {
   "cell_type": "code",
   "execution_count": 4,
   "metadata": {
    "collapsed": false
   },
   "outputs": [],
   "source": [
    "# turn the list of tuples into a default dictionary\n",
    "nextsteplocs = defaultdict(lambda: defaultdict(int))\n",
    "for k, v in nextsteps:\n",
    "    v = v.strip()\n",
    "    nextsteplocs[k][v]+=1\n",
    "\n",
    "# turn the counts of the default dictionary into probabilities\n",
    "b = []\n",
    "for i in nextsteplocs:\n",
    "    a = sum(nextsteplocs[i].values())\n",
    "    for j in nextsteplocs[i]:\n",
    "        nextsteplocs[i][j] = nextsteplocs[i][j]/a"
   ]
  },
  {
   "cell_type": "code",
   "execution_count": 5,
   "metadata": {
    "collapsed": true
   },
   "outputs": [],
   "source": [
    "# Bring in the ECMorph Dataframe to create a dictionary of {ECLoc : MeanDistance} to \n",
    "# calculate distance travelled for each tracer. This associates the mean downstream distance of each\n",
    "# morphologic unit with the unit name\n",
    "ECMorph_df = pd.read_csv('ECMorph.csv')\n",
    "NLGrouped = ECMorph_df.groupby('UNIT_ID')\n",
    "NamedLocDist_dict = dict(NLGrouped.DSDist.mean())"
   ]
  },
  {
   "cell_type": "code",
   "execution_count": 6,
   "metadata": {
    "collapsed": true
   },
   "outputs": [],
   "source": [
    "# Set up stepping function for the model\n",
    "def nextMU(currentMU):\n",
    "    cmu = str(currentMU)\n",
    "    a = []\n",
    "    b = list(nextsteplocs[cmu].keys())\n",
    "    for j in nextsteplocs[cmu]:\n",
    "        a.append(nextsteplocs[cmu][j])\n",
    "    if not a:\n",
    "        draw = 'nan'\n",
    "    if a:\n",
    "        draw = choice(b, p = a)\n",
    "    return draw"
   ]
  },
  {
   "cell_type": "code",
   "execution_count": 7,
   "metadata": {
    "collapsed": true
   },
   "outputs": [],
   "source": [
    "# turn the stepping function into a repeating model\n",
    "\n",
    "def MU_Model(numtracers, numyears, startingloc, namedlocdist_dict):\n",
    "    #initialize df\n",
    "    modeltracers = pd.DataFrame()\n",
    "    mtracers = list(range(numtracers))\n",
    "    modeltracers['tracers'] = mtracers\n",
    "    modeltracers['CurLoc'] = str(startingloc)\n",
    "    modeltracers['CurDist'] = str(startingloc)\n",
    "    modeltracers['t0_dist'] = np.nan\n",
    "    modeltracers['t0'] = str(startingloc)\n",
    "    modeltracers['t0_dist'] = modeltracers['t0_dist'].fillna(modeltracers['t0'].map(namedlocdist_dict))\n",
    "    name1 = 't'\n",
    "    name2 = '_dist'\n",
    "    for yr in range(1, numyears):\n",
    "        tn = []\n",
    "        name = name1 + str(yr)\n",
    "        for i in modeltracers['tracers']:\n",
    "            cloc = modeltracers['CurLoc'][i]\n",
    "            if cloc == 'nan':\n",
    "                tn.append('nan')\n",
    "            else:\n",
    "                tn.append(nextMU(cloc))\n",
    "        modeltracers[name] = tn\n",
    "        modeltracers[name + name2] = np.nan\n",
    "        modeltracers[name + name2] = modeltracers[name + name2].fillna(modeltracers[name].map(namedlocdist_dict))\n",
    "        modeltracers['CurLoc'] = tn\n",
    "        modeltracers['CurDist'] = modeltracers['CurDist'].fillna(modeltracers['CurLoc'].map(namedlocdist_dict))\n",
    "    return modeltracers"
   ]
  },
  {
   "cell_type": "code",
   "execution_count": 8,
   "metadata": {
    "collapsed": false
   },
   "outputs": [
    {
     "data": {
      "text/html": [
       "<div>\n",
       "<table border=\"1\" class=\"dataframe\">\n",
       "  <thead>\n",
       "    <tr style=\"text-align: right;\">\n",
       "      <th></th>\n",
       "      <th>tracers</th>\n",
       "      <th>t0_dist</th>\n",
       "      <th>t1_dist</th>\n",
       "      <th>t2_dist</th>\n",
       "      <th>t3_dist</th>\n",
       "      <th>t4_dist</th>\n",
       "      <th>t5_dist</th>\n",
       "      <th>t6_dist</th>\n",
       "      <th>t7_dist</th>\n",
       "      <th>t8_dist</th>\n",
       "      <th>t9_dist</th>\n",
       "    </tr>\n",
       "  </thead>\n",
       "  <tbody>\n",
       "    <tr>\n",
       "      <th>count</th>\n",
       "      <td>9858.000000</td>\n",
       "      <td>9.858000e+03</td>\n",
       "      <td>9850.000000</td>\n",
       "      <td>9818.000000</td>\n",
       "      <td>9792.000000</td>\n",
       "      <td>9784.000000</td>\n",
       "      <td>9782.000000</td>\n",
       "      <td>9769.000000</td>\n",
       "      <td>9768.000000</td>\n",
       "      <td>9785.000000</td>\n",
       "      <td>9858.000000</td>\n",
       "    </tr>\n",
       "    <tr>\n",
       "      <th>mean</th>\n",
       "      <td>4993.013492</td>\n",
       "      <td>9.402947e+00</td>\n",
       "      <td>28.040350</td>\n",
       "      <td>39.674265</td>\n",
       "      <td>48.964173</td>\n",
       "      <td>56.203425</td>\n",
       "      <td>62.647565</td>\n",
       "      <td>68.243747</td>\n",
       "      <td>73.399970</td>\n",
       "      <td>78.338991</td>\n",
       "      <td>83.352057</td>\n",
       "    </tr>\n",
       "    <tr>\n",
       "      <th>std</th>\n",
       "      <td>2885.242358</td>\n",
       "      <td>1.547285e-12</td>\n",
       "      <td>29.320909</td>\n",
       "      <td>34.667845</td>\n",
       "      <td>38.609113</td>\n",
       "      <td>41.304331</td>\n",
       "      <td>44.309428</td>\n",
       "      <td>46.457721</td>\n",
       "      <td>48.550426</td>\n",
       "      <td>50.835496</td>\n",
       "      <td>53.182248</td>\n",
       "    </tr>\n",
       "    <tr>\n",
       "      <th>min</th>\n",
       "      <td>0.000000</td>\n",
       "      <td>9.402947e+00</td>\n",
       "      <td>3.282752</td>\n",
       "      <td>3.282752</td>\n",
       "      <td>3.282752</td>\n",
       "      <td>3.282752</td>\n",
       "      <td>3.282752</td>\n",
       "      <td>3.282752</td>\n",
       "      <td>3.282752</td>\n",
       "      <td>3.282752</td>\n",
       "      <td>3.282752</td>\n",
       "    </tr>\n",
       "    <tr>\n",
       "      <th>25%</th>\n",
       "      <td>2496.250000</td>\n",
       "      <td>9.402947e+00</td>\n",
       "      <td>9.402947</td>\n",
       "      <td>9.402947</td>\n",
       "      <td>17.331466</td>\n",
       "      <td>23.816234</td>\n",
       "      <td>29.418856</td>\n",
       "      <td>35.102055</td>\n",
       "      <td>41.505587</td>\n",
       "      <td>41.505587</td>\n",
       "      <td>47.166391</td>\n",
       "    </tr>\n",
       "    <tr>\n",
       "      <th>50%</th>\n",
       "      <td>4994.500000</td>\n",
       "      <td>9.402947e+00</td>\n",
       "      <td>9.402947</td>\n",
       "      <td>26.952632</td>\n",
       "      <td>41.505587</td>\n",
       "      <td>47.166391</td>\n",
       "      <td>55.710571</td>\n",
       "      <td>61.029241</td>\n",
       "      <td>65.864906</td>\n",
       "      <td>66.287581</td>\n",
       "      <td>71.512102</td>\n",
       "    </tr>\n",
       "    <tr>\n",
       "      <th>75%</th>\n",
       "      <td>7487.750000</td>\n",
       "      <td>9.402947e+00</td>\n",
       "      <td>41.505587</td>\n",
       "      <td>61.029241</td>\n",
       "      <td>66.287581</td>\n",
       "      <td>76.830455</td>\n",
       "      <td>81.042915</td>\n",
       "      <td>88.108551</td>\n",
       "      <td>94.533700</td>\n",
       "      <td>99.568243</td>\n",
       "      <td>109.382100</td>\n",
       "    </tr>\n",
       "    <tr>\n",
       "      <th>max</th>\n",
       "      <td>9999.000000</td>\n",
       "      <td>9.402947e+00</td>\n",
       "      <td>197.897397</td>\n",
       "      <td>389.401970</td>\n",
       "      <td>408.727510</td>\n",
       "      <td>408.727510</td>\n",
       "      <td>429.469293</td>\n",
       "      <td>389.401970</td>\n",
       "      <td>429.469293</td>\n",
       "      <td>408.727510</td>\n",
       "      <td>429.469293</td>\n",
       "    </tr>\n",
       "  </tbody>\n",
       "</table>\n",
       "</div>"
      ],
      "text/plain": [
       "           tracers       t0_dist      t1_dist      t2_dist      t3_dist  \\\n",
       "count  9858.000000  9.858000e+03  9850.000000  9818.000000  9792.000000   \n",
       "mean   4993.013492  9.402947e+00    28.040350    39.674265    48.964173   \n",
       "std    2885.242358  1.547285e-12    29.320909    34.667845    38.609113   \n",
       "min       0.000000  9.402947e+00     3.282752     3.282752     3.282752   \n",
       "25%    2496.250000  9.402947e+00     9.402947     9.402947    17.331466   \n",
       "50%    4994.500000  9.402947e+00     9.402947    26.952632    41.505587   \n",
       "75%    7487.750000  9.402947e+00    41.505587    61.029241    66.287581   \n",
       "max    9999.000000  9.402947e+00   197.897397   389.401970   408.727510   \n",
       "\n",
       "           t4_dist      t5_dist      t6_dist      t7_dist      t8_dist  \\\n",
       "count  9784.000000  9782.000000  9769.000000  9768.000000  9785.000000   \n",
       "mean     56.203425    62.647565    68.243747    73.399970    78.338991   \n",
       "std      41.304331    44.309428    46.457721    48.550426    50.835496   \n",
       "min       3.282752     3.282752     3.282752     3.282752     3.282752   \n",
       "25%      23.816234    29.418856    35.102055    41.505587    41.505587   \n",
       "50%      47.166391    55.710571    61.029241    65.864906    66.287581   \n",
       "75%      76.830455    81.042915    88.108551    94.533700    99.568243   \n",
       "max     408.727510   429.469293   389.401970   429.469293   408.727510   \n",
       "\n",
       "           t9_dist  \n",
       "count  9858.000000  \n",
       "mean     83.352057  \n",
       "std      53.182248  \n",
       "min       3.282752  \n",
       "25%      47.166391  \n",
       "50%      71.512102  \n",
       "75%     109.382100  \n",
       "max     429.469293  "
      ]
     },
     "execution_count": 8,
     "metadata": {},
     "output_type": "execute_result"
    }
   ],
   "source": [
    "# run the model in the format:\n",
    "#(number of simulated tracers, number of years, starting location, file containing jump probability)\n",
    "\n",
    "LocJumpModel = MU_Model(10000, 10, 'RAP_RUN2_SEED', NamedLocDist_dict)\n",
    "\n",
    "#Adjust the 't9' in 't9_dist' to read 'tx_dist\" where is the number of years in the simulation minus 1\n",
    "LocJumpModel_clean = LocJumpModel.dropna(subset=['t9_dist'])\n",
    "\n",
    "#Describe the results of transport distances (in meters) in a table\n",
    "LocJumpModel_clean.describe()"
   ]
  },
  {
   "cell_type": "code",
   "execution_count": 9,
   "metadata": {
    "collapsed": false
   },
   "outputs": [
    {
     "data": {
      "text/plain": [
       "<matplotlib.text.Text at 0x284faa0ad30>"
      ]
     },
     "execution_count": 9,
     "metadata": {},
     "output_type": "execute_result"
    },
    {
     "data": {
      "image/png": "[encoded data removed]",
      "text/plain": [
       "<matplotlib.figure.Figure at 0x284faacc5c0>"
      ]
     },
     "metadata": {},
     "output_type": "display_data"
    }
   ],
   "source": [
    "#plot a histogram of finished distances\n",
    "#adjust the t9_dist to represent your year of choice \n",
    "#(typically the number of years in the simulation minus 1)\n",
    "fig, ax = plt.subplots()\n",
    "ax.hist(LocJumpModel_clean.t9_dist, 150, normed = True)\n",
    "ax.set_title('Prototype 1 Results')\n",
    "ax.plot()\n",
    "ax.set_xlabel('Distance Travelled m')\n",
    "ax.set_ylabel('Probability')  "
   ]
  },
  {
   "cell_type": "markdown",
   "metadata": {},
   "source": [
    "### Prototype 2\n",
    "East Creek Random Walk Model Prototype 2 operates under a few assumptions:\n",
    "    \n",
    "    1) Tracers located in the same morphologic type (bar, pool, etc.) will move similarly. This assumption ignores physical differences both between morphologic units (ex. two different bars) or within a morphologic unit (bar head versus bar tail).\n",
    "    2) Hydrodynamics and burial depths do not impact tracer movement (this will be added \n",
    "      in later prototypes).\n",
    "    3) Tracer step-length distributions follow either an exponential or gamma distribution (as observed by Phillips et al. (2013) or Hassan and Church (1992)). More extensive \n",
    "     model-fitting will be conducted in future prototypes.\n",
    "\n",
    "Prototype 2 stochastically models yearly tracer travel distance. For each model timestep, tracer step distance is determined by the morphologic unit of the tracer's current location. Its cross-stream position is randomly selected based on its current location, and the two selections together determine its location for the next timestep based on the map of East Creek seen in Figure 1. Further descriptions of this process are located in the next cell."
   ]
  },
  {
   "cell_type": "markdown",
   "metadata": {},
   "source": [
    "#### Determination of Step Distances\n",
    "Six morphologic types were identified during tracer recovery over the 10-year study window: riffle, pool, rapid, run, bar, and trap (an installed bedload transport measurement device). Back Channels, Rip-Rap, and LWD were both observed as possible morphologic units in the East Creek morphological survey, but were not identified during tracer recovery. As a result, Rip-Rap was reclassified as bars, LWD locations were reclassified as pools (although bars may have been a more suitable choice) and back-channel units were excluded from the study.\n",
    "\n",
    "For each morphologic type, the development of this model focused on the transport behavior of particles which originated within it. This transport behavior was described using two values. The first of these values is the percentage of particles that showed zero forward motion (referred to in the model as \"zeroes\"), while the second value is a set of parameters that describe the fit of either an exponential model or a gamma model to the group of travel distances originating from the morphologic type over the course of the study. For the exponential function, this takes the form of a \"loc\" and \"scale\" parameter, where the probability density function can be parameterized with the equation (y = lambda * exp(-lambda * x)), where scale = 1/lambda. The gamma model also returns a third parameter, a, which serves as a shape parameter. \n",
    "\n",
    "Over the 10 years of the study, the percentage of particles with zero movement forward ranged between 30% (riffles) and 43% (traps) depending on morphologic type (Figure 2). This is less than the values reported by Papangelakis et al. (2016) because their study included a 50cm tolerance, whereas this one does not. Figure 3 shows histograms of transport distances originating in each morphologic unit as well as the exponential and gamma models representing them in the random walk model. These model fits did not include the zero values, as the \"no movement condition\" was explicitly forced in the random walk model (hence the bi-directional behavior of the gamma models for riffles and bars). One will notice that the model fits seem to overpredict particle transport distance. Power-law, Cauchy, and different gamma model fits will be explored in future prototypes.\n",
    "\n",
    "Given a path and a downstream distance, a modelled tracer was mapped to a morphologic unit (and type) using the map in Figure 1. For each timestep, each tracer particle was assigned a probability of remaining at rest and a distribution of possible movements by the morphologic type in which it sat. Using a weighted random generator, the particle either remained at rest or moved. If the particle moved, a random value, representing step distance, was selected from the model distribution, and added to the location of the particle in the downstream location.\n",
    "\n",
    "For movement in the cross-stream direction, East Creek was split into five parallel paths upon which the tracers travelled. For each timestep in which a particle moved, that particle had a 50% chance of staying in the same path, and a descending probability of movement into adjacent paths with distance (the probabilities are listed in the \"pickline\" function in the code below). If there was no listed morphologic unit on that path (either the path left the river boundary or was located in a back-channel unit), the modelled tracer was forced to move one path towards the center. If it still was not in a valid unit, the tracer was dropped and not included in the model or the analysis. "
   ]
  },
  {
   "cell_type": "markdown",
   "metadata": {},
   "source": [
    "#### Figure 2: Probability of Zero Movement for each Morphologic Type\n",
    "<img src=\"Figures/zeroes_bar.png\">\n",
    "Figure 2: Probability of no forward movement per year for each morphologic type in this study. These values are lower than the values reported by Papangelakis et al. (2016) as this study does not include a 50cm tolerance for motion."
   ]
  },
  {
   "cell_type": "markdown",
   "metadata": {},
   "source": [
    "#### Insert Figure 3: Travel Distance Histograms and Models\n",
    "<img src=\"Figures/Bar Travel Distances.png\">\n",
    "<img src=\"Figures/Riffle Travel Distances.png\">\n",
    "<img src=\"Figures/Pool Travel Distances.png\">\n",
    "<img src=\"Figures/Rapid Travel Distances.png\">\n",
    "<img src=\"Figures/Run Travel Distances.png\">\n",
    "<img src=\"Figures/Trap Travel Distances.png\">\n",
    "\n",
    "Figure 3: Travel distance histograms and model fits for tracer data recorded in the study."
   ]
  },
  {
   "cell_type": "markdown",
   "metadata": {},
   "source": [
    "## The Code for Prototype 2\n",
    "\n",
    "Hit Shift + Enter for each cell in this section\n",
    "\n",
    "The code is current set up to run either a gamma or exponential distribution model. Unfortunately, I have not yet set it up to run both automatically (or make it easy to switch between the two). I am presenting it to run with the gamma model (as it leads to a more interesting result). If you would like to switch between the two, you will need to change a few lines of code in multiple cells in the model. I will be marking these cells with headings and comments to make it easier."
   ]
  },
  {
   "cell_type": "code",
   "execution_count": 10,
   "metadata": {
    "collapsed": true
   },
   "outputs": [],
   "source": [
    "### Import the neccessary python libraries\n",
    "import pandas as pd\n",
    "import numpy as np\n",
    "import scipy\n",
    "import scipy.stats\n",
    "from numpy.random import choice\n",
    "import matplotlib.pyplot as plt\n",
    "%matplotlib inline\n",
    "import os\n",
    "INITIAL_DIRECTORY = os.getcwd()"
   ]
  },
  {
   "cell_type": "code",
   "execution_count": 11,
   "metadata": {
    "collapsed": true
   },
   "outputs": [],
   "source": [
    "### Load in the East Creek Morphologic Unit Data which also includes the Zeroes and Step Parameters\n",
    "ECMorph_df = pd.read_csv('ECMorph.csv')"
   ]
  },
  {
   "cell_type": "markdown",
   "metadata": {},
   "source": [
    "##### Adjust the Jump Distribution #1"
   ]
  },
  {
   "cell_type": "code",
   "execution_count": 12,
   "metadata": {
    "collapsed": true
   },
   "outputs": [],
   "source": [
    "# For Expon Version, uncomment the line below and comment the gamma line\n",
    "#ECMorph_df = ECMorph_df[['DSDist', 'Line', 'TYPE', 'UNIT_ID', 'exponparams', 'zeroes']]\n",
    "# For Gamma Version, uncomment the line below and comment the expon line\n",
    "ECMorph_df = ECMorph_df[['DSDist', 'Line', 'TYPE', 'UNIT_ID', 'gammaparams', 'zeroes']]"
   ]
  },
  {
   "cell_type": "code",
   "execution_count": 13,
   "metadata": {
    "collapsed": true
   },
   "outputs": [],
   "source": [
    "## Initialize the model DataFrame using the code below\n",
    "def setupdf(testd, years, numtracers, dist):\n",
    "    # Create the dataframe columns\n",
    "    assert numtracers % 5 == 0\n",
    "    dist = str(dist)\n",
    "    tracers = pd.DataFrame({'Tracer' : list(range(numtracers)),\n",
    "                            'Distribution' : dist,\n",
    "                            'DSDist' : testd})\n",
    "    tracers.ix[0:numtracers/5-1,'Line'] = 'T1'\n",
    "    tracers.ix[numtracers / 5 : 2 * numtracers / 5 - 1,'Line'] = 'T2'\n",
    "    tracers.ix[2 * numtracers / 5 : 3 * numtracers / 5 - 1,'Line'] = 'T3'\n",
    "    tracers.ix[3 * numtracers / 5 : 4 * numtracers / 5 - 1,'Line'] = 'T4'\n",
    "    tracers.ix[4 * numtracers / 5 : numtracers - 1,'Line'] = 'T5'\n",
    "    return tracers"
   ]
  },
  {
   "cell_type": "code",
   "execution_count": 14,
   "metadata": {
    "collapsed": true
   },
   "outputs": [],
   "source": [
    "## Set up a rounding helper function\n",
    "def round05(value):\n",
    "    return np.round(value * 20)/20"
   ]
  },
  {
   "cell_type": "code",
   "execution_count": 15,
   "metadata": {
    "collapsed": true
   },
   "outputs": [],
   "source": [
    "## Set up a function to get the MU and Location name based on DSDist and Line\n",
    "## This line of code matches the model to the East Creek Morphology\n",
    "def getMULoc(df, morphdf):\n",
    "    df['DSDist'] = df.DSDist.apply(lambda x: round05(x))\n",
    "    df = pd.merge(df, morphdf, how = 'left', on = ['Line', 'DSDist'])\n",
    "    return df"
   ]
  },
  {
   "cell_type": "markdown",
   "metadata": {},
   "source": [
    "##### Adjust the Jump Distribution #2"
   ]
  },
  {
   "cell_type": "code",
   "execution_count": 16,
   "metadata": {
    "collapsed": true
   },
   "outputs": [],
   "source": [
    "## Draw the next step distance for each year. Please note that if you wish to\n",
    "## change from a gamma to exponential distribution or vice-versa, you must change\n",
    "## the 'gammaparams' term to 'exponparams' (or vice versa)\n",
    "def stochdist_zeroes(row):\n",
    "    # determine whether the particle moves\n",
    "    jump = choice([0, 1], p = [row['zeroes'], (1-row['zeroes'])])\n",
    "    # if 'yes' determine the step length\n",
    "    if jump == 1:\n",
    "        dist = getattr(scipy.stats, str(row['Distribution']))\n",
    "        ## Change to 'gammaparams' or 'exponparams' depending on your model choice\n",
    "        jumplength = np.abs(dist.rvs(*eval(row['gammaparams'])))\n",
    "    # if 'no' move on to next particle\n",
    "    else:\n",
    "        jumplength = 0\n",
    "    return jumplength"
   ]
  },
  {
   "cell_type": "code",
   "execution_count": 17,
   "metadata": {
    "collapsed": true
   },
   "outputs": [],
   "source": [
    "# Preserve data from the previous year by copying the data to another dataframe\n",
    "def finish_a_year1(df, year):\n",
    "    yr1 = str(year-1)\n",
    "    yeardf = pd.DataFrame()\n",
    "    yeardf['DSDist' + yr1] = df.DSDist.copy()\n",
    "    yeardf['Line' + yr1] = df.Line.copy()\n",
    "    yeardf['Increment' + yr1] = df.Increment.copy()\n",
    "    df = pd.concat([df, yeardf], axis = 1)\n",
    "    return df"
   ]
  },
  {
   "cell_type": "markdown",
   "metadata": {},
   "source": [
    "##### Adjust the Jump Distribution #3"
   ]
  },
  {
   "cell_type": "code",
   "execution_count": 18,
   "metadata": {
    "collapsed": true
   },
   "outputs": [],
   "source": [
    "# Set up a dataframe for the next Loc Merge by renaming the TYPE and UNITID \n",
    "# columns and dropping the parameter and zeroes columns\n",
    "\n",
    "## To switch from gamma to expon or vice versa, switch gammaparams to exponparams\n",
    "def finish_a_year2(df, year):\n",
    "    yr1 = str(year-1)\n",
    "    TYPENAME = 'TYPE' + yr1\n",
    "    UNIT_IDNAME = 'UNIT_ID' + yr1\n",
    "    colname_dict = {'TYPE' : TYPENAME,\n",
    "                    'UNIT_ID' : UNIT_IDNAME}\n",
    "    df.rename(columns = colname_dict, inplace = True)\n",
    "    #switch gammaparams to exponparams if you'd like to switch models\n",
    "    df = df.drop(['gammaparams', 'zeroes'], axis = 1)\n",
    "    return df"
   ]
  },
  {
   "cell_type": "code",
   "execution_count": 19,
   "metadata": {
    "collapsed": true
   },
   "outputs": [],
   "source": [
    "# Pick the next line given a dictionary of probabilities\n",
    "def pickline(r):\n",
    "    ## if there is no particle movement, there is no line switching\n",
    "    if r['Increment'] == 0:\n",
    "        endline = r['Line']\n",
    "    else:\n",
    "        #The following codeblock determines the probabilities of\n",
    "        # Movement from one path to the next\n",
    "        T1_dict = {'T1':.5, 'T2':.3, 'T3':.15, 'T4':.05}\n",
    "        T2_dict = {'T2':.5, 'T3':.2, 'T1':.2, 'T4':.1}\n",
    "        T3_dict = {'T3':.5, 'T2':.15, 'T4':.15, 'T5':.10, 'T1':.10}\n",
    "        T4_dict = {'T4':.5, 'T3':.2, 'T5':.2, 'T2':.1}\n",
    "        T5_dict = {'T5':.5, 'T4':.3, 'T3':.15, 'T2':.05}\n",
    "        if r['Line'] == 'T1':\n",
    "            a = list(T1_dict.keys())\n",
    "            b = list(T1_dict.values())\n",
    "        if r['Line'] == 'T2':\n",
    "            a = list(T2_dict.keys())\n",
    "            b = list(T2_dict.values())\n",
    "        if r['Line'] == 'T3':\n",
    "            a = list(T3_dict.keys())\n",
    "            b = list(T3_dict.values())\n",
    "        if r['Line'] == 'T4':\n",
    "            a = list(T4_dict.keys())\n",
    "            b = list(T4_dict.values())\n",
    "        if r['Line'] == 'T5':\n",
    "            a = list(T5_dict.keys())\n",
    "            b = list(T5_dict.values())\n",
    "        endline = choice(a, p = b)\n",
    "    return endline"
   ]
  },
  {
   "cell_type": "code",
   "execution_count": 20,
   "metadata": {
    "collapsed": true
   },
   "outputs": [],
   "source": [
    "##### Adjust the Jump Distribution #4"
   ]
  },
  {
   "cell_type": "code",
   "execution_count": 21,
   "metadata": {
    "collapsed": true
   },
   "outputs": [],
   "source": [
    "def check_for_NaNs(df, morphdf, year):\n",
    "    # extract rows from df that have NaNs\n",
    "    # This is the brute force version that forces lines with NaNs to adjacent lines\n",
    "    # switch gammaparams to exponparams or vice versa\n",
    "    yr1 = str(year - 1)\n",
    "    LineEscape_dict = {'T1' : 'T2', \n",
    "                       'T5' : 'T4', \n",
    "                       'T4' : 'T3', \n",
    "                       'T2' : 'T3',\n",
    "                       'T3' : 'T4'}\n",
    "    if df['TYPE'].isnull().sum() != 0:\n",
    "        print('checking error in', year)\n",
    "        df1 = df[df['TYPE'].isnull()]\n",
    "        ## # switch gammaparams to exponparams or vice versa\n",
    "        df1 = df1.drop(['TYPE', 'UNIT_ID', 'gammaparams', 'zeroes'], axis = 1)\n",
    "        for i in range(len(df1)):\n",
    "            df1['Line'] = df1['Line' + yr1].map(LineEscape_dict)\n",
    "        df1 = getMULoc(df1, morphdf)\n",
    "        df = pd.concat([df, df1])\n",
    "        df = df.dropna(subset=['TYPE'])  \n",
    "    return(df)"
   ]
  },
  {
   "cell_type": "code",
   "execution_count": 22,
   "metadata": {
    "collapsed": true
   },
   "outputs": [],
   "source": [
    "## put the above functions together to run a year\n",
    "def run_a_year(df, morphdf, year):\n",
    "    df['Increment'] = df.apply(lambda row: stochdist_zeroes(row), axis = 1)\n",
    "    df = finish_a_year1(df, year)\n",
    "    df = finish_a_year2(df, year)\n",
    "    df['DSDist'] = df['DSDist'] + df['Increment']\n",
    "    df['Line'] = df.apply(pickline, axis = 1)\n",
    "    df = getMULoc(df, morphdf)\n",
    "    df = check_for_NaNs(df, morphdf, year)\n",
    "    return df"
   ]
  },
  {
   "cell_type": "code",
   "execution_count": 23,
   "metadata": {
    "collapsed": true
   },
   "outputs": [],
   "source": [
    "## This line is what runs the model\n",
    "def ECRW_nohydro(testd, years, numtracers, dist, morphdf):\n",
    "    # set up dataframe w/ original year\n",
    "    tracerdf = setupdf(testd, years, numtracers, dist)\n",
    "    tracerdf = getMULoc(tracerdf, morphdf)\n",
    "    #assert (tracerdf['TYPE'].isnull().sum() != 0), 'Pick a new downstream distance!'\n",
    "    # loop through the various steps\n",
    "    for i in range(1, years):\n",
    "        print('looping through year', i,'...')\n",
    "        tracerdf = run_a_year(tracerdf, morphdf, i)\n",
    "    return tracerdf"
   ]
  },
  {
   "cell_type": "markdown",
   "metadata": {},
   "source": [
    "### The below line of code actually runs the model"
   ]
  },
  {
   "cell_type": "code",
   "execution_count": 24,
   "metadata": {
    "collapsed": false
   },
   "outputs": [
    {
     "name": "stdout",
     "output_type": "stream",
     "text": [
      "looping through year 1 ...\n",
      "checking error in 1\n",
      "looping through year 2 ...\n",
      "checking error in 2\n",
      "looping through year 3 ...\n",
      "checking error in 3\n",
      "looping through year 4 ...\n",
      "checking error in 4\n",
      "looping through year 5 ...\n",
      "checking error in 5\n",
      "looping through year 6 ...\n",
      "checking error in 6\n",
      "looping through year 7 ...\n",
      "checking error in 7\n",
      "looping through year 8 ...\n",
      "checking error in 8\n",
      "looping through year 9 ...\n",
      "checking error in 9\n",
      "looping through year 1 ...\n",
      "checking error in 1\n",
      "looping through year 2 ...\n",
      "checking error in 2\n",
      "looping through year 3 ...\n",
      "checking error in 3\n",
      "looping through year 4 ...\n",
      "checking error in 4\n",
      "looping through year 5 ...\n",
      "checking error in 5\n",
      "looping through year 6 ...\n",
      "checking error in 6\n",
      "looping through year 7 ...\n",
      "checking error in 7\n",
      "looping through year 8 ...\n",
      "checking error in 8\n",
      "looping through year 9 ...\n",
      "checking error in 9\n"
     ]
    }
   ],
   "source": [
    "## this block runs a series of tracers that starts in the RAP and RP1 seeding areas\n",
    "## there are two lines of code (one for each seeding area).\n",
    "\n",
    "## To initialize the code, select the following (each line is a parameter):\n",
    "## (downstream distance where 6 == RAP and 91.5 == RP1, \n",
    "## number of years where 10 matches the study period,\n",
    "## number of simulated tracers (needs to be divisible by 5)\n",
    "## distribution (either 'gamma' or 'expon'), \n",
    "## list of morph units (DO NOT CHANGE THIS!!!))\n",
    "\n",
    "RAP_gamma_10years_test = ECRW_nohydro(6, 10, 1000, 'gamma', ECMorph_df)\n",
    "RP1_gamma_10years_test = ECRW_nohydro(91.5, 10, 1000, 'gamma', ECMorph_df)"
   ]
  },
  {
   "cell_type": "code",
   "execution_count": 25,
   "metadata": {
    "collapsed": false
   },
   "outputs": [],
   "source": [
    "## this block saves outputs to csv if you'd like\n",
    "\n",
    "# os.chdir(INITIAL_DIRECTORY + '\\TestModelOutputs')\n",
    "# RAP_expon_10years.to_csv('RAP_expon_10years.csv')\n",
    "# RP1_expon_10years.to_csv('RP1_expon_10years.csv')\n",
    "# RAP_gamma_10years.to_csv('RAP_gamma_10years_test.csv')\n",
    "# RP1_gamma_10years.to_csv('RP1_gamma_10years_test.csv')\n",
    "# os.chdir(INITIAL_DIRECTORY)"
   ]
  },
  {
   "cell_type": "markdown",
   "metadata": {},
   "source": [
    "## Your Preliminary Model Results\n",
    "\n",
    "Run the below lines of code to compare your model results to the real data"
   ]
  },
  {
   "cell_type": "code",
   "execution_count": 26,
   "metadata": {
    "collapsed": true
   },
   "outputs": [],
   "source": [
    "# Initialize Histogram Plotting\n",
    "bins = np.linspace(0, 200, 200)\n",
    "\n",
    "def RAPmodel_data_hist(RAP):\n",
    "    plt.subplot(121)\n",
    "    plt.hist(RAP, bins = bins, normed = True)\n",
    "    plt.title('RAP Model Data')\n",
    "    plt.xlabel('Distance Traveled', fontsize=15)\n",
    "    plt.ylabel('Probability', fontsize=15)   \n",
    "\n",
    "def RP1model_data_hist(RP1):\n",
    "    plt.subplot(122)\n",
    "    plt.hist(RP1, bins = bins, normed = True)\n",
    "    plt.title('RP1 Model Data')\n",
    "    plt.xlabel('Distance Traveled', fontsize=15)\n",
    "    plt.ylabel('Probability', fontsize=15) "
   ]
  },
  {
   "cell_type": "code",
   "execution_count": 27,
   "metadata": {
    "collapsed": false
   },
   "outputs": [
    {
     "data": {
      "image/png": "[encoded data removed]",
      "text/plain": [
       "<matplotlib.figure.Figure at 0x284fbcac9e8>"
      ]
     },
     "metadata": {},
     "output_type": "display_data"
    }
   ],
   "source": [
    "## Plot 'em up (the subtraction allows for calculation of distance travelled)\n",
    "RAPmodel_data_hist(RAP_gamma_10years_test.DSDist-6)\n",
    "RP1model_data_hist(RP1_gamma_10years_test.DSDist-91.5)\n",
    "plt.axis()\n",
    "plt.tight_layout()\n",
    "plt.show()"
   ]
  },
  {
   "cell_type": "markdown",
   "metadata": {},
   "source": [
    "## Presenting Preliminary Data from 100,000 Simulated Tracers:\n",
    "\n",
    "As an initial model test, 100,000 tracers were simulated over 10 years through the study reaches applying both an exponential and gamma model for step distances. Both models overestimate particle movement through the RAP reach, with the exponential model having a mean particle travel distance of 75.28m and the exponential model having a mean particle travel distance of 82.96m compared with a travel distance of 61.45m for observed tracers. The models perform better through the more morphologically varied RP1, with the exponential model having a mean travel distance of 50.64m and the gamma model having a mean travel distance of 60.69m (compared with 52.32m for the real-world particles). Interestingly, the gamma model does a decent job of recreating particle dispersion, which could be attributed to 1) the lower probability of short travel distances and 2) increased variation between morphologic types. Comparisons between real-world and modelled data for each reach can be observed in Figure 4."
   ]
  },
  {
   "cell_type": "markdown",
   "metadata": {},
   "source": [
    "#### Figure 4: Comparison Between Real-World and Modelled Data\n",
    "\n",
    "\n",
    "##### RAP Tracers\n",
    "<img src=\"Figures/hist1.png\">\n",
    "##### RP1 Tracers\n",
    "<img src=\"Figures/hist2.png\">\n",
    "\n",
    "Figure 4: Comparison between measured tracer data and the two models used in Prototype 2. Note that while the exponential model does a better job of capturing the mean travel distance of particles, the gamma model does a better job of capturing the relative behavior of the assemblage."
   ]
  },
  {
   "cell_type": "markdown",
   "metadata": {},
   "source": [
    "## Future Iterations\n",
    "\n",
    "While Prototype 2 does a decent job of describing tracer behavior, using the amalgamated step-length data from the study may poorly represent the nature of particle motion. During the tracer study period, 2006 had considerably more discharge than the other years of the study. While other years had between 10% and 40% of tracers mobile, ~90% of tracers were mobile in the 2006-2007 year. For this reason, scaling resting probability and transport distance with discharge (or excess stream power) may better match both the mean and spread of tracer travel distances."
   ]
  }
 ],
 "metadata": {
  "kernelspec": {
   "display_name": "Python 3",
   "language": "python",
   "name": "python3"
  },
  "language_info": {
   "codemirror_mode": {
    "name": "ipython",
    "version": 3
   },
   "file_extension": ".py",
   "mimetype": "text/x-python",
   "name": "python",
   "nbconvert_exporter": "python",
   "pygments_lexer": "ipython3",
   "version": "3.5.1"
  }
 },
 "nbformat": 4,
 "nbformat_minor": 0
}
